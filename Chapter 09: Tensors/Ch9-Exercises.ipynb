{
 "cells": [
  {
   "cell_type": "markdown",
   "metadata": {},
   "source": [
    "# Chapter 9: Tensors"
   ]
  },
  {
   "cell_type": "markdown",
   "metadata": {},
   "source": [
    "Author: "
   ]
  },
  {
   "cell_type": "code",
   "execution_count": 2,
   "metadata": {},
   "outputs": [
    {
     "name": "stdout",
     "output_type": "stream",
     "text": [
      "[magic succeeded] mode = pretty\n",
      "[magic succeeded] timeout = 10"
     ]
    },
    {
     "data": {
      "text/html": [
       "<pre></pre><pre style=\"color: gray\"></pre>"
      ]
     },
     "execution_count": 2,
     "metadata": {},
     "output_type": "execute_result"
    }
   ],
   "source": [
    "-- initial setup\n",
    "--%mode=pretty\n",
    "--%timeout=10"
   ]
  },
  {
   "cell_type": "markdown",
   "metadata": {},
   "source": [
    "## Section 9.1: "
   ]
  },
  {
   "cell_type": "markdown",
   "metadata": {},
   "source": [
    "### Theorem 9.12 on computing the number of singular vector tuples of a general n_1*...*n_d over an algebraically closed field K using SVT"
   ]
  },
  {
   "cell_type": "code",
   "execution_count": 2,
   "metadata": {},
   "outputs": [
    {
     "name": "stdout",
     "output_type": "stream",
     "text": [
      "--loading configuration for package \"FourTiTwo\" from file /Users/aidanabdulali/Library/Application Support/Macaulay2/init-FourTiTwo.m2\n",
      "--loading configuration for package \"Topcom\" from file /Users/aidanabdulali/Library/Application Support/Macaulay2/init-Topcom.m2\n",
      "\n",
      "\n",
      "o2 = 98\n",
      "\n",
      "o2 : QQ\n"
     ]
    }
   ],
   "source": [
    "restart\n",
    "SVT = (n) -> (\n",
    "d = #n;\n",
    "R = QQ[z_1..z_d];\n",
    "s = 0;\n",
    "for i from 1 to d do (\n",
    "s = s + z_i;\n",
    ");\n",
    "for i from 1 to d do (\n",
    "hz_i = s - z_i;\n",
    ");\n",
    "p = 1;\n",
    "q = 1;\n",
    "for i from 1 to d do (\n",
    "p = p * (hz_i^(n_(i-1)) - z_i^(n_(i-1))) // (hz_i - z_i);\n",
    "q = q * z_i^(n_(i-1)-1);\n",
    ");\n",
    "coefficient(q, p)\n",
    ")\n",
    "SVT([3,3,2,2])\n"
   ]
  },
  {
   "cell_type": "markdown",
   "metadata": {},
   "source": [
    "## Section 9.2: "
   ]
  },
  {
   "cell_type": "code",
   "execution_count": null,
   "metadata": {},
   "outputs": [],
   "source": []
  },
  {
   "cell_type": "code",
   "execution_count": null,
   "metadata": {},
   "outputs": [],
   "source": []
  },
  {
   "cell_type": "markdown",
   "metadata": {},
   "source": [
    "## Section 9.3: "
   ]
  },
  {
   "cell_type": "code",
   "execution_count": null,
   "metadata": {},
   "outputs": [],
   "source": []
  },
  {
   "cell_type": "code",
   "execution_count": null,
   "metadata": {},
   "outputs": [],
   "source": []
  }
 ],
 "metadata": {
  "kernelspec": {
   "display_name": "M2",
   "language": "text/x-macaulay2",
   "name": "m2"
  },
  "language_info": {
   "codemirror_mode": "macaulay2",
   "file_extension": ".m2",
   "mimetype": "text/x-macaulay2",
   "name": "Macaulay2"
  }
 },
 "nbformat": 4,
 "nbformat_minor": 4
}
