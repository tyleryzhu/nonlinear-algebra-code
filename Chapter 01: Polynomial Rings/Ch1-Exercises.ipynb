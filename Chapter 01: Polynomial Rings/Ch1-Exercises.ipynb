{
 "cells": [
  {
   "cell_type": "code",
   "execution_count": null,
   "metadata": {},
   "outputs": [],
   "source": []
  }
 ],
 "metadata": {
  "kernelspec": {
   "display_name": "M2",
   "language": "text/x-macaulay2",
   "name": "m2"
  },
  "language_info": {
   "codemirror_mode": "macaulay2",
   "file_extension": ".m2",
   "mimetype": "text/x-macaulay2",
   "name": "Macaulay2"
  }
 },
 "nbformat": 4,
 "nbformat_minor": 4
}
