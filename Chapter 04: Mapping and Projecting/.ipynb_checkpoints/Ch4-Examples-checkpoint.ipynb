{
 "cells": [
  {
   "cell_type": "markdown",
   "metadata": {},
   "source": [
    "# Chapter 4: Mapping and Projecting"
   ]
  },
  {
   "cell_type": "markdown",
   "metadata": {},
   "source": [
    "Author: Kevin An"
   ]
  },
  {
   "cell_type": "code",
   "execution_count": 2,
   "metadata": {},
   "outputs": [
    {
     "name": "stdout",
     "output_type": "stream",
     "text": [
      "[magic succeeded] mode = pretty\n",
      "[magic succeeded] timeout = 10"
     ]
    },
    {
     "data": {
      "text/html": [
       "<pre></pre><pre style=\"color: gray\"></pre>"
      ]
     },
     "execution_count": 2,
     "metadata": {},
     "output_type": "execute_result"
    }
   ],
   "source": [
    "-- initial setup\n",
    "--%mode=pretty\n",
    "--%timeout=10"
   ]
  },
  {
   "cell_type": "markdown",
   "metadata": {},
   "source": [
    "## Section 4.1: Elimination"
   ]
  },
  {
   "cell_type": "markdown",
   "metadata": {},
   "source": [
    "### Example 4.4"
   ]
  },
  {
   "cell_type": "markdown",
   "metadata": {},
   "source": [
    "We wish to find the algebraic relation satisfied by the power sums $x^i + y^i + z^i$ for $i = 1, 2, 3, 4$. To do so, we fix the ideal $I = \\langle x + y + z - p_1, x^2 + y^2 + z^2 - p_2, x^3 + y^3 + z^3 - p_3, x^4 + y^4 + z^4 - p_4 \\rangle$, and eliminate the variables $x, y, z$. We do so in Macaulay2 (over $\\mathbb{Q}$) as follows:"
   ]
  },
  {
   "cell_type": "code",
   "execution_count": 2,
   "metadata": {},
   "outputs": [
    {
     "name": "stdout",
     "output_type": "stream",
     "text": [
      "--loading configuration for package \"FourTiTwo\" from file /home/kevinan/.Macaulay2/init-FourTiTwo.m2\n",
      "--loading configuration for package \"Topcom\" from file /home/kevinan/.Macaulay2/init-Topcom.m2\n"
     ]
    }
   ],
   "source": [
    "restart"
   ]
  },
  {
   "cell_type": "code",
   "execution_count": 1,
   "metadata": {},
   "outputs": [
    {
     "name": "stdout",
     "output_type": "stream",
     "text": [
      "\n",
      "o1 = R\n",
      "\n",
      "o1 : PolynomialRing\n"
     ]
    }
   ],
   "source": [
    "R = QQ[x, y, z, p_1, p_2, p_3, p_4]"
   ]
  },
  {
   "cell_type": "code",
   "execution_count": 2,
   "metadata": {},
   "outputs": [
    {
     "name": "stdout",
     "output_type": "stream",
     "text": [
      "\n",
      "                             2    2    2        3    3    3        4    4    4\n",
      "o2 = ideal (x + y + z - p , x  + y  + z  - p , x  + y  + z  - p , x  + y  + z  -\n",
      "                         1                  2                  3                \n",
      "     ---------------------------------------------------------------------------\n",
      "     p )\n",
      "      4\n",
      "\n",
      "o2 : Ideal of R\n"
     ]
    }
   ],
   "source": [
    "I = ideal(x + y + z - p_1, x^2 + y^2 + z^2 - p_2, x^3 + y^3 + z^3 - p_3, x^4 + y^4 + z^4 - p_4)"
   ]
  },
  {
   "cell_type": "code",
   "execution_count": 3,
   "metadata": {},
   "outputs": [
    {
     "name": "stdout",
     "output_type": "stream",
     "text": [
      "\n",
      "o3 = {x, y, z}\n",
      "\n",
      "o3 : List\n"
     ]
    }
   ],
   "source": [
    "L = {x, y, z}"
   ]
  },
  {
   "cell_type": "code",
   "execution_count": 4,
   "metadata": {},
   "outputs": [
    {
     "name": "stdout",
     "output_type": "stream",
     "text": [
      "\n",
      "            4     2       2\n",
      "o4 = ideal(p  - 6p p  + 3p  + 8p p  - 6p )\n",
      "            1     1 2     2     1 3     4\n",
      "\n",
      "o4 : Ideal of R\n"
     ]
    }
   ],
   "source": [
    "eliminate(L, I)"
   ]
  },
  {
   "cell_type": "markdown",
   "metadata": {},
   "source": [
    "And hence our desired relation is $J = I \\cap K[p_1, p_2, p_3, p_4] = \\langle p_1^4 - 6p_1^2 p_2 + 3p_2^2 + 8p_1p_3 - 6p_4 \\rangle$"
   ]
  },
  {
   "cell_type": "markdown",
   "metadata": {},
   "source": [
    "### Example 4.6"
   ]
  },
  {
   "cell_type": "markdown",
   "metadata": {},
   "source": [
    "We are asked to find real numbers $x, y, z$ such that their $i$-th power sums to $i$ for $i = 1,2,3$. Following the textbook, we compute the lex Gr{\\\"o}bner basis:"
   ]
  },
  {
   "cell_type": "code",
   "execution_count": null,
   "metadata": {},
   "outputs": [],
   "source": []
  }
 ],
 "metadata": {
  "kernelspec": {
   "display_name": "M2",
   "language": "text/x-macaulay2",
   "name": "m2"
  },
  "language_info": {
   "codemirror_mode": "macaulay2",
   "file_extension": ".m2",
   "mimetype": "text/x-macaulay2",
   "name": "Macaulay2"
  }
 },
 "nbformat": 4,
 "nbformat_minor": 4
}
