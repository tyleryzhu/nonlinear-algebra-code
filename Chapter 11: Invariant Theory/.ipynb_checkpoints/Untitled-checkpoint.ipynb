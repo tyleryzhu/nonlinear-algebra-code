{
 "cells": [
  {
   "cell_type": "markdown",
   "metadata": {},
   "source": [
    "# Exercises"
   ]
  },
  {
   "cell_type": "markdown",
   "metadata": {},
   "source": [
    "(solutions thanks to Eunice Sakarto)"
   ]
  },
  {
   "cell_type": "markdown",
   "metadata": {},
   "source": [
    "## 6"
   ]
  },
  {
   "cell_type": "markdown",
   "metadata": {},
   "source": [
    "We are asked to compute the invariant ring $K[V]^T$. Inputting the following code gives us the desired output:"
   ]
  },
  {
   "cell_type": "code",
   "execution_count": 13,
   "metadata": {},
   "outputs": [
    {
     "name": "stdout",
     "output_type": "stream",
     "text": [
      "--loading configuration for package \"FourTiTwo\" from file /home/kevinan/.Macaulay2/init-FourTiTwo.m2\n",
      "--loading configuration for package \"Topcom\" from file /home/kevinan/.Macaulay2/init-Topcom.m2\n"
     ]
    }
   ],
   "source": [
    "restart"
   ]
  },
  {
   "cell_type": "code",
   "execution_count": 1,
   "metadata": {},
   "outputs": [],
   "source": [
    "R = QQ[a, b, c, x1, x2, x3, x4, x5, x6, x7, x8, x9, x0, y1, y2, y3, y4, y5, y6, y7, y8, y9, y0][u1, u2, u3];"
   ]
  },
  {
   "cell_type": "code",
   "execution_count": 3,
   "metadata": {},
   "outputs": [],
   "source": [
    "l1 = a*u1;"
   ]
  },
  {
   "cell_type": "code",
   "execution_count": 4,
   "metadata": {},
   "outputs": [],
   "source": [
    "l2 = b*u2;"
   ]
  },
  {
   "cell_type": "code",
   "execution_count": 5,
   "metadata": {},
   "outputs": [],
   "source": [
    "l3 = c*u3;"
   ]
  },
  {
   "cell_type": "code",
   "execution_count": 9,
   "metadata": {},
   "outputs": [],
   "source": [
    "f = y1*u1^3 + y2*u1^2*u2 + y3*u1^2*u3 + y4*u1*u2^2 + y5*u1*u2*u3 + y6*u1*u3^2 + y7*u2^3 + y8*u2^2*u3 + y9*u2*u3^2 + y0*u3^3;"
   ]
  },
  {
   "cell_type": "code",
   "execution_count": 10,
   "metadata": {},
   "outputs": [],
   "source": [
    "g = x1*l1^2 + x2*l1^2*l2 + x3*l1^2*l3 + x4*l1*l2^2 + x5*l1*l2*l3 + x6*l1*l3^2 + x7*l2^3 + x8*l2^2*l3 + x9*l2*l3^2 + x0*l3^3;"
   ]
  },
  {
   "cell_type": "code",
   "execution_count": 11,
   "metadata": {},
   "outputs": [],
   "source": [
    "(N, C) = coefficients (f - g);"
   ]
  },
  {
   "cell_type": "code",
   "execution_count": 12,
   "metadata": {},
   "outputs": [
    {
     "name": "stdout",
     "output_type": "stream",
     "text": [
      "\n",
      "o12 : Ideal of R\n"
     ]
    }
   ],
   "source": [
    "I = minors(1, C);"
   ]
  },
  {
   "cell_type": "code",
   "execution_count": 13,
   "metadata": {},
   "outputs": [
    {
     "name": "stdout",
     "output_type": "stream",
     "text": [
      "\n",
      "o13 : Ideal of R\n"
     ]
    }
   ],
   "source": [
    "I = I + ideal(a*b*c - 1);"
   ]
  },
  {
   "cell_type": "code",
   "execution_count": 14,
   "metadata": {},
   "outputs": [],
   "source": [
    "S = QQ[a, b, c, x1, x2, x3, x4, x4, x5, x6, x7, x8, x9, x0, y1, y2, y3, y4, y5, y6, y7, y8, y9, y0];"
   ]
  },
  {
   "cell_type": "code",
   "execution_count": 15,
   "metadata": {},
   "outputs": [
    {
     "name": "stdout",
     "output_type": "stream",
     "text": [
      "\n",
      "o15 : Ideal of S\n"
     ]
    }
   ],
   "source": [
    "I = substitute(I, S);"
   ]
  },
  {
   "cell_type": "code",
   "execution_count": 17,
   "metadata": {},
   "outputs": [
    {
     "name": "stdout",
     "output_type": "stream",
     "text": [
      "\n",
      "o17 : Ideal of S\n"
     ]
    }
   ],
   "source": [
    "J = eliminate(I, {a, b, c});"
   ]
  },
  {
   "cell_type": "code",
   "execution_count": 19,
   "metadata": {},
   "outputs": [
    {
     "name": "stdout",
     "output_type": "stream",
     "text": [
      "\n",
      "                                                                                \n",
      "o19 = ideal (0, x5, x1, x2*x9, x3*x8, x4*x6, 0, 0, 0, 0, 0, 0, 0, 0, 0, 0, 0, 0,\n",
      "      --------------------------------------------------------------------------\n",
      "                                                                              \n",
      "      x2*x4*x0, x3*x4*x9, x2*x6*x8, x3*x6*x7, 0, 0, 0, 0, 0, 0, 0, 0, 0, 0, 0,\n",
      "      --------------------------------------------------------------------------\n",
      "                                            2                         2   \n",
      "      0, 0, 0, 0, 0, 0, 0, 0, 0, 0, 0, 0, x2 x8*x0, x2*x3*x7*x0, x3*x4 x0,\n",
      "      --------------------------------------------------------------------------\n",
      "        2            2                                                2         \n",
      "      x3 x7*x9, x2*x6 x7, 0, 0, 0, 0, 0, 0, 0, 0, 0, 0, 0, 0, 0, 0, x2 x6*x7*x0,\n",
      "      --------------------------------------------------------------------------\n",
      "        2                              3     2    3  2\n",
      "      x3 x4*x7*x0, 0, 0, 0, 0, 0, 0, x2 x7*x0 , x3 x7 x0)\n",
      "\n",
      "o19 : Ideal of S\n"
     ]
    }
   ],
   "source": [
    "J = substitute(J, {y1=>0,y2=>0,y3=>0,y4=>0,y5=>0,y6=>0,y7=>0,y8=>0,y9=>0,y0=>0})"
   ]
  },
  {
   "cell_type": "code",
   "execution_count": 20,
   "metadata": {},
   "outputs": [
    {
     "name": "stdout",
     "output_type": "stream",
     "text": [
      "\n",
      "o20 = | x5 x1 x2x9 x3x8 x4x6 x2x4x0 x3x4x9 x2x6x8 x3x6x7 x2^2x8x0 x2x3x7x0\n",
      "      --------------------------------------------------------------------------\n",
      "      x3x4^2x0 x3^2x7x9 x2x6^2x7 x2^2x6x7x0 x3^2x4x7x0 x2^3x7x0^2 x3^3x7^2x0 |\n",
      "\n",
      "              1       18\n",
      "o20 : Matrix S  <--- S\n"
     ]
    }
   ],
   "source": [
    "mingens J"
   ]
  },
  {
   "cell_type": "markdown",
   "metadata": {},
   "source": [
    "## 9"
   ]
  },
  {
   "cell_type": "markdown",
   "metadata": {},
   "source": [
    "We compute the invariant ring as follows:"
   ]
  },
  {
   "cell_type": "code",
   "execution_count": 21,
   "metadata": {},
   "outputs": [
    {
     "name": "stdout",
     "output_type": "stream",
     "text": [
      "--loading configuration for package \"FourTiTwo\" from file /home/kevinan/.Macaulay2/init-FourTiTwo.m2\n",
      "--loading configuration for package \"Topcom\" from file /home/kevinan/.Macaulay2/init-Topcom.m2\n"
     ]
    }
   ],
   "source": [
    "restart"
   ]
  },
  {
   "cell_type": "code",
   "execution_count": 1,
   "metadata": {},
   "outputs": [],
   "source": [
    "R = QQ[a1, a2, a3, b1, b2, b3, c1, c2, c3, x1, x2, x3, x4, x5, x6, y1, y2, y3, y4, y5, y6][u1, u2, u3];"
   ]
  },
  {
   "cell_type": "code",
   "execution_count": 2,
   "metadata": {},
   "outputs": [
    {
     "name": "stdout",
     "output_type": "stream",
     "text": [
      "\n",
      "                                                                                                    3                                                                                              3\n",
      "o2 : Matrix (QQ[a1, a2, a3, b1, b2, b3, c1, c2, c3, x1, x2, x3, x4, x5, x6, y1, y2, y3, y4, y5, y6])  <--- (QQ[a1, a2, a3, b1, b2, b3, c1, c2, c3, x1, x2, x3, x4, x5, x6, y1, y2, y3, y4, y5, y6])\n"
     ]
    }
   ],
   "source": [
    "M = matrix{{a1, a2, a3}, {b1, b2, b3}, {c1, c2, c3}};"
   ]
  },
  {
   "cell_type": "code",
   "execution_count": 3,
   "metadata": {},
   "outputs": [],
   "source": [
    "l1 = a1*u1 + a2*u2 + a3*u3;"
   ]
  },
  {
   "cell_type": "code",
   "execution_count": 4,
   "metadata": {},
   "outputs": [],
   "source": [
    "l2 = b1*u1 + b1*u2 + b3*u3;"
   ]
  },
  {
   "cell_type": "code",
   "execution_count": 5,
   "metadata": {},
   "outputs": [],
   "source": [
    "l3 = c1*u1 + c2*u2 + c3*u3;"
   ]
  },
  {
   "cell_type": "code",
   "execution_count": 6,
   "metadata": {},
   "outputs": [],
   "source": [
    "f = y1*u1^2 + y2*u2^2 + y3*u3^2 + y4*u1*u2 + y5*u1*u3 + y6*u2*u3;"
   ]
  },
  {
   "cell_type": "code",
   "execution_count": 7,
   "metadata": {},
   "outputs": [],
   "source": [
    "g = x1*l1^2 + x2*l2^2 + x3*l3^2 + x4*l1*l2 + x5*l1*l3 + x6*l2*l3;"
   ]
  },
  {
   "cell_type": "code",
   "execution_count": 8,
   "metadata": {},
   "outputs": [],
   "source": [
    "(N, C) = coefficients (f - g);"
   ]
  },
  {
   "cell_type": "code",
   "execution_count": 9,
   "metadata": {},
   "outputs": [
    {
     "name": "stdout",
     "output_type": "stream",
     "text": [
      "\n",
      "o9 : Ideal of R\n"
     ]
    }
   ],
   "source": [
    "I = minors(1, C);"
   ]
  },
  {
   "cell_type": "code",
   "execution_count": 10,
   "metadata": {},
   "outputs": [
    {
     "name": "stdout",
     "output_type": "stream",
     "text": [
      "\n",
      "o10 : Ideal of R\n"
     ]
    }
   ],
   "source": [
    "I = I + ideal(det M - 1);"
   ]
  },
  {
   "cell_type": "code",
   "execution_count": 11,
   "metadata": {},
   "outputs": [],
   "source": [
    "S = QQ[a1, a2, a3, b1, b2, b3, c1, c2, c3, x1, x2, x3, x4, x5, x6, y1, y2, y3, y4, y5, y6];"
   ]
  },
  {
   "cell_type": "code",
   "execution_count": 12,
   "metadata": {},
   "outputs": [
    {
     "name": "stdout",
     "output_type": "stream",
     "text": [
      "\n",
      "o12 : Ideal of S\n"
     ]
    }
   ],
   "source": [
    "I = substitute(I, S);"
   ]
  },
  {
   "cell_type": "code",
   "execution_count": 24,
   "metadata": {},
   "outputs": [
    {
     "name": "stdout",
     "output_type": "stream",
     "text": [
      "\r\n",
      "o24 = [KERNEL ENFORCED TIMEOUT]"
     ]
    }
   ],
   "source": [
    "J = eliminate(I, {a1, a2, a3, b1, b2, b3, c1, c2, c3});"
   ]
  },
  {
   "cell_type": "code",
   "execution_count": 25,
   "metadata": {},
   "outputs": [
    {
     "name": "stdout",
     "output_type": "stream",
     "text": [
      "stdio:69:5:(3): error: no method found for applying substitute to:\n",
      "     argument 1 :  J (of class Symbol)\n",
      "     argument 2 :  {y1 => 0, y2 => 0, y3 => 0, y4 => 0, y5 => . (of class List)\n"
     ]
    }
   ],
   "source": [
    "J = substitute(J, {y1=>0, y2=>0, y3=>0, y4=>0, y5=>0, y6=>0})"
   ]
  },
  {
   "cell_type": "code",
   "execution_count": 26,
   "metadata": {},
   "outputs": [
    {
     "name": "stdout",
     "output_type": "stream",
     "text": [
      "stdio:72:1:(3): error: no method found for applying mingens to:\n",
      "     argument   :  J (of class Symbol)\n"
     ]
    }
   ],
   "source": [
    "mingens J"
   ]
  },
  {
   "cell_type": "markdown",
   "metadata": {},
   "source": [
    "## 12"
   ]
  },
  {
   "cell_type": "markdown",
   "metadata": {},
   "source": [
    "We compute the invariant ring:\n"
   ]
  },
  {
   "cell_type": "code",
   "execution_count": 27,
   "metadata": {},
   "outputs": [
    {
     "name": "stdout",
     "output_type": "stream",
     "text": [
      "--loading configuration for package \"FourTiTwo\" from file /home/kevinan/.Macaulay2/init-FourTiTwo.m2\n",
      "--loading configuration for package \"Topcom\" from file /home/kevinan/.Macaulay2/init-Topcom.m2\n"
     ]
    }
   ],
   "source": [
    "restart"
   ]
  },
  {
   "cell_type": "code",
   "execution_count": 1,
   "metadata": {},
   "outputs": [],
   "source": [
    "R = QQ[a, b, x1, x2, x3, x4, y1, y2, y3, y4];"
   ]
  },
  {
   "cell_type": "code",
   "execution_count": 3,
   "metadata": {},
   "outputs": [
    {
     "name": "stdout",
     "output_type": "stream",
     "text": [
      "\n",
      "o3 : Ideal of R\n"
     ]
    }
   ],
   "source": [
    "I = ideal(a^2 + b^2 - 1, a*x1 - b*x3 - y1, a*x2 - b*x4 - y2, b*x1 + a*x3 - y3, b*x2 + a*x4 - y4);"
   ]
  },
  {
   "cell_type": "code",
   "execution_count": 4,
   "metadata": {},
   "outputs": [
    {
     "name": "stdout",
     "output_type": "stream",
     "text": [
      "\n",
      "o4 : Ideal of R\n"
     ]
    }
   ],
   "source": [
    "J = eliminate(I, {a, b});"
   ]
  },
  {
   "cell_type": "code",
   "execution_count": 5,
   "metadata": {},
   "outputs": [
    {
     "name": "stdout",
     "output_type": "stream",
     "text": [
      "\n",
      "                                   2     2                   2     2\n",
      "o5 = ideal (0, 0, x2*x3 - x1*x4, x2  + x4 , x1*x2 + x3*x4, x1  + x3 )\n",
      "\n",
      "o5 : Ideal of R\n"
     ]
    }
   ],
   "source": [
    "J = substitute(J,{y1=>0, y2=>0, y3=>0, y4=>0})"
   ]
  },
  {
   "cell_type": "code",
   "execution_count": 6,
   "metadata": {},
   "outputs": [
    {
     "name": "stdout",
     "output_type": "stream",
     "text": [
      "\n",
      "o6 = | x2x3-x1x4 x2^2+x4^2 x1x2+x3x4 x1^2+x3^2 |\n",
      "\n",
      "             1       4\n",
      "o6 : Matrix R  <--- R\n"
     ]
    }
   ],
   "source": [
    "mingens J"
   ]
  },
  {
   "cell_type": "code",
   "execution_count": null,
   "metadata": {},
   "outputs": [],
   "source": []
  }
 ],
 "metadata": {
  "kernelspec": {
   "display_name": "M2",
   "language": "text/x-macaulay2",
   "name": "m2"
  },
  "language_info": {
   "codemirror_mode": "macaulay2",
   "file_extension": ".m2",
   "mimetype": "text/x-macaulay2",
   "name": "Macaulay2"
  }
 },
 "nbformat": 4,
 "nbformat_minor": 4
}
