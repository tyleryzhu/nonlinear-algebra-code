{
 "cells": [
  {
   "cell_type": "markdown",
   "metadata": {},
   "source": [
    "# Exercise 5.11"
   ]
  },
  {
   "cell_type": "code",
   "execution_count": 4,
   "metadata": {},
   "outputs": [
    {
     "name": "stdout",
     "output_type": "stream",
     "text": [
      "2\n",
      "5\n",
      "14\n",
      "42\n",
      "132\n",
      "429\n",
      "1430\n",
      "\n"
     ]
    }
   ],
   "source": [
    "pattern = (n) -> (\n",
    "    R := QQ[apply(subsets(n,2), i -> p_i)];\n",
    "    I := Grassmannian(1, n-1, R);\n",
    "    s := toSequence first entries leadTerm I;\n",
    "    l := primaryDecomposition ideal(s);\n",
    "    #l\n",
    ")\n",
    "catalan = (n) -> (\n",
    "    binomial(2*n, n) // (n+1)\n",
    "    )\n",
    "for n from 4 to 10 do (\n",
    "    print(pattern(n));\n",
    "    )\n",
    "\n",
    "for n from 4 to 10 do (\n",
    "    assert(pattern(n) == catalan(n-2));\n",
    "    )"
   ]
  },
  {
   "cell_type": "markdown",
   "metadata": {},
   "source": [
    "# Exercise 5.15"
   ]
  },
  {
   "cell_type": "code",
   "execution_count": 7,
   "metadata": {},
   "outputs": [
    {
     "name": "stdout",
     "output_type": "stream",
     "text": [
      "--loading configuration for package \"FourTiTwo\" from file /Users/aidanabdulali/Library/Application Support/Macaulay2/init-FourTiTwo.m2\n",
      "--loading configuration for package \"Topcom\" from file /Users/aidanabdulali/Library/Application Support/Macaulay2/init-Topcom.m2\n",
      "\n",
      "image | 0    |\n",
      "      | 1    |\n",
      "      | -5   |\n",
      "      | 78   |\n",
      "      | -241 |\n",
      "      | 7593 |\n",
      "image | 0  |\n",
      "      | 0  |\n",
      "      | 0  |\n",
      "      | 0  |\n",
      "      | -1 |\n",
      "      | 31 |\n",
      "image | 0    |\n",
      "      | 0    |\n",
      "      | 0    |\n",
      "      | -1   |\n",
      "      | 3    |\n",
      "      | -112 |\n",
      "image | 0  |\n",
      "      | 0  |\n",
      "      | 0  |\n",
      "      | 0  |\n",
      "      | -1 |\n",
      "      | 53 |\n",
      "image | 0 |\n",
      "      | 0 |\n",
      "      | 0 |\n",
      "      | 0 |\n",
      "      | 0 |\n",
      "      | 1 |\n",
      "image | 0 |\n",
      "      | 0 |\n",
      "      | 0 |\n",
      "      | 0 |\n",
      "      | 0 |\n",
      "      | 1 |\n"
     ]
    }
   ],
   "source": [
    "restart\n",
    "M = matrix{\n",
    "    {1,0,0,0,0,0},\n",
    "    {0,5,1,0,0,0},\n",
    "    {0,7,0,3,1,0}}\n",
    "N = matrix{\n",
    "    {1,0,0,0,0,0},\n",
    "    {0,11,1,0,0,0},\n",
    "    {0,13,0,1,0,0}}\n",
    "M32 = matrix{\n",
    "    {1,0,0,0,0,0},\n",
    "    {0,17,19,1,0,0},\n",
    "    {0,23,29,0,31,1}}\n",
    "M311 = matrix{\n",
    "    {37,1,0,0,0,0},\n",
    "    {41,0,1,0,0,0},\n",
    "    {43,0,0,47,53,1}}\n",
    "M221 = matrix{\n",
    "    {59,1,0,0,0,0},\n",
    "    {61,0,67,1,0,0},\n",
    "    {71,0,57,0,1,0}}\n",
    "\n",
    "l = {M32, M311, M221}\n",
    "for i from 0 to 2 do (\n",
    "    print(kernel(M || l_i));\n",
    "    print(kernel(N || l_i));\n",
    "    )"
   ]
  },
  {
   "cell_type": "code",
   "execution_count": null,
   "metadata": {},
   "outputs": [],
   "source": []
  }
 ],
 "metadata": {
  "kernelspec": {
   "display_name": "M2",
   "language": "text/x-macaulay2",
   "name": "m2"
  },
  "language_info": {
   "codemirror_mode": "macaulay2",
   "file_extension": ".m2",
   "mimetype": "text/x-macaulay2",
   "name": "Macaulay2"
  }
 },
 "nbformat": 4,
 "nbformat_minor": 2
}
