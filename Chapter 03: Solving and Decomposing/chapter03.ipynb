{
 "cells": [
  {
   "cell_type": "markdown",
   "metadata": {},
   "source": [
    "# Chapter 3: Solving and Decomposing"
   ]
  },
  {
   "cell_type": "markdown",
   "metadata": {},
   "source": [
    "Author: Kevin An "
   ]
  },
  {
   "cell_type": "code",
   "execution_count": 2,
   "metadata": {},
   "outputs": [
    {
     "name": "stdout",
     "output_type": "stream",
     "text": [
      "[magic succeeded] mode = pretty\n",
      "[magic succeeded] timeout = 10"
     ]
    },
    {
     "data": {
      "text/html": [
       "<pre></pre><pre style=\"color: gray\"></pre>"
      ]
     },
     "execution_count": 2,
     "metadata": {},
     "output_type": "execute_result"
    }
   ],
   "source": [
    "-- initial setup\n",
    "--%mode=pretty\n",
    "--%timeout=10"
   ]
  },
  {
   "cell_type": "markdown",
   "metadata": {},
   "source": [
    "## Section 3.1:  Zero-dimensional Ideals"
   ]
  },
  {
   "cell_type": "markdown",
   "metadata": {},
   "source": [
    "### Example 3.1"
   ]
  },
  {
   "cell_type": "markdown",
   "metadata": {},
   "source": [
    "Consider the polynomial $f = x^3 - 2x^2 + x - 2 \\in \\mathbb{R}[x]$"
   ]
  },
  {
   "cell_type": "markdown",
   "metadata": {},
   "source": [
    "We compute its primary decomposition (over $\\mathbb{Q}[x]$ to avoid floating point error):"
   ]
  },
  {
   "cell_type": "code",
   "execution_count": 1,
   "metadata": {},
   "outputs": [
    {
     "name": "stdout",
     "output_type": "stream",
     "text": [
      "--loading configuration for package \"FourTiTwo\" from file /home/kevinan/.Macaulay2/init-FourTiTwo.m2\n",
      "--loading configuration for package \"Topcom\" from file /home/kevinan/.Macaulay2/init-Topcom.m2\n"
     ]
    }
   ],
   "source": [
    "restart"
   ]
  },
  {
   "cell_type": "code",
   "execution_count": 1,
   "metadata": {},
   "outputs": [
    {
     "name": "stdout",
     "output_type": "stream",
     "text": [
      "\n",
      "o1 = R\n",
      "\n",
      "o1 : PolynomialRing\n"
     ]
    }
   ],
   "source": [
    "R = QQ[x]"
   ]
  },
  {
   "cell_type": "code",
   "execution_count": 2,
   "metadata": {},
   "outputs": [
    {
     "name": "stdout",
     "output_type": "stream",
     "text": [
      "\n",
      "            3     2\n",
      "o2 = ideal(x  - 2x  + x - 2)\n",
      "\n",
      "o2 : Ideal of R\n"
     ]
    }
   ],
   "source": [
    "I = ideal(x^3 - 2*x^2 + x - 2)"
   ]
  },
  {
   "cell_type": "code",
   "execution_count": 3,
   "metadata": {},
   "outputs": [
    {
     "name": "stdout",
     "output_type": "stream",
     "text": [
      "\n",
      "             2\n",
      "o3 = {ideal(x  + 1), ideal(x - 2)}\n",
      "\n",
      "o3 : List\n"
     ]
    }
   ],
   "source": [
    "primaryDecomposition I"
   ]
  },
  {
   "cell_type": "markdown",
   "metadata": {},
   "source": [
    "We get as output  $\\langle f \\rangle = \\langle x - 2 \\rangle \\cap \\langle x^2 + 1 \\rangle$, as desired."
   ]
  },
  {
   "cell_type": "markdown",
   "metadata": {},
   "source": [
    "We now replace the given polynomial by $g = x^3 - 2x^2 + x - 1$ and consider $\\langle g \\rangle$"
   ]
  },
  {
   "cell_type": "code",
   "execution_count": 4,
   "metadata": {
    "scrolled": true
   },
   "outputs": [
    {
     "name": "stdout",
     "output_type": "stream",
     "text": [
      "\n",
      "            3     2\n",
      "o4 = ideal(x  - 2x  + x - 1)\n",
      "\n",
      "o4 : Ideal of R\n"
     ]
    }
   ],
   "source": [
    "J = ideal(x^3 - 2 * x^2 + x - 1)"
   ]
  },
  {
   "cell_type": "code",
   "execution_count": 5,
   "metadata": {
    "scrolled": true
   },
   "outputs": [
    {
     "name": "stdout",
     "output_type": "stream",
     "text": [
      "\n",
      "             3     2\n",
      "o5 = {ideal(x  - 2x  + x - 1)}\n",
      "\n",
      "o5 : List\n"
     ]
    }
   ],
   "source": [
    "primaryDecomposition J"
   ]
  },
  {
   "cell_type": "markdown",
   "metadata": {},
   "source": [
    "so the decomposition is just $\\langle g \\rangle = \\langle x^3 - 2x^2 + x - 1 \\rangle$."
   ]
  },
  {
   "cell_type": "markdown",
   "metadata": {},
   "source": [
    "Currently the primaryDecomposition command only works over prime fields, so over $\\mathbb{C}[x]$ we unfortunately get an error :("
   ]
  },
  {
   "cell_type": "code",
   "execution_count": 6,
   "metadata": {},
   "outputs": [
    {
     "name": "stdout",
     "output_type": "stream",
     "text": [
      "--loading configuration for package \"FourTiTwo\" from file /home/kevinan/.Macaulay2/init-FourTiTwo.m2\n",
      "--loading configuration for package \"Topcom\" from file /home/kevinan/.Macaulay2/init-Topcom.m2\n"
     ]
    }
   ],
   "source": [
    "restart"
   ]
  },
  {
   "cell_type": "code",
   "execution_count": 1,
   "metadata": {},
   "outputs": [
    {
     "name": "stdout",
     "output_type": "stream",
     "text": [
      "\n",
      "o1 = R\n",
      "\n",
      "o1 : PolynomialRing\n"
     ]
    }
   ],
   "source": [
    "R = CC[x]"
   ]
  },
  {
   "cell_type": "code",
   "execution_count": 2,
   "metadata": {},
   "outputs": [
    {
     "name": "stdout",
     "output_type": "stream",
     "text": [
      "\n",
      "            3     2\n",
      "o2 = ideal(x  - 2x  + x - 1)\n",
      "\n",
      "o2 : Ideal of R\n"
     ]
    }
   ],
   "source": [
    "I = ideal(x^3 - 2*x^2 + x - 1)"
   ]
  },
  {
   "cell_type": "code",
   "execution_count": 3,
   "metadata": {},
   "outputs": [
    {
     "name": "stdout",
     "output_type": "stream",
     "text": [
      "stdio:9:1:(3): error: expected base field to be QQ or ZZ/p\n"
     ]
    }
   ],
   "source": [
    "primaryDecomposition I"
   ]
  },
  {
   "cell_type": "markdown",
   "metadata": {},
   "source": [
    "### Example 3.2"
   ]
  },
  {
   "cell_type": "markdown",
   "metadata": {},
   "source": [
    "Let $I = \\langle x^m - x - 1 \\rangle$ where $m \\geq 2$. The variety $\\mathcal{V}$ consists of $m$ complex points, but only one of them is real and positive. Unfortunately like the complex numbers the reals are also not a prime field so Macaulay2 cannot handle this computation. We demonstrate that the variety has no rational roots for $m = 5$ and $m = 4$"
   ]
  },
  {
   "cell_type": "code",
   "execution_count": 7,
   "metadata": {},
   "outputs": [
    {
     "name": "stdout",
     "output_type": "stream",
     "text": [
      "--loading configuration for package \"FourTiTwo\" from file /home/kevinan/.Macaulay2/init-FourTiTwo.m2\n",
      "--loading configuration for package \"Topcom\" from file /home/kevinan/.Macaulay2/init-Topcom.m2\n"
     ]
    }
   ],
   "source": [
    "restart"
   ]
  },
  {
   "cell_type": "code",
   "execution_count": 1,
   "metadata": {},
   "outputs": [
    {
     "name": "stdout",
     "output_type": "stream",
     "text": [
      "\n",
      "o1 = R\n",
      "\n",
      "o1 : PolynomialRing\n"
     ]
    }
   ],
   "source": [
    "R = QQ[x]"
   ]
  },
  {
   "cell_type": "code",
   "execution_count": 2,
   "metadata": {},
   "outputs": [
    {
     "name": "stdout",
     "output_type": "stream",
     "text": [
      "\n",
      "            5\n",
      "o2 = ideal(x  - x - 1)\n",
      "\n",
      "o2 : Ideal of R\n"
     ]
    }
   ],
   "source": [
    "I = ideal(x^5 - x - 1)"
   ]
  },
  {
   "cell_type": "code",
   "execution_count": 3,
   "metadata": {},
   "outputs": [
    {
     "name": "stdout",
     "output_type": "stream",
     "text": [
      "\n",
      "             5\n",
      "o3 = {ideal(x  - x - 1)}\n",
      "\n",
      "o3 : List\n"
     ]
    }
   ],
   "source": [
    "primaryDecomposition(I)"
   ]
  },
  {
   "cell_type": "code",
   "execution_count": 4,
   "metadata": {},
   "outputs": [
    {
     "name": "stdout",
     "output_type": "stream",
     "text": [
      "\n",
      "            4\n",
      "o4 = ideal(x  - x - 1)\n",
      "\n",
      "o4 : Ideal of R\n"
     ]
    }
   ],
   "source": [
    "J = ideal(x^4 - x - 1)"
   ]
  },
  {
   "cell_type": "code",
   "execution_count": 5,
   "metadata": {},
   "outputs": [
    {
     "name": "stdout",
     "output_type": "stream",
     "text": [
      "\n",
      "             4\n",
      "o5 = {ideal(x  - x - 1)}\n",
      "\n",
      "o5 : List\n"
     ]
    }
   ],
   "source": [
    "primaryDecomposition(J)"
   ]
  },
  {
   "cell_type": "markdown",
   "metadata": {},
   "source": [
    "### Example 3.4: "
   ]
  },
  {
   "cell_type": "markdown",
   "metadata": {},
   "source": [
    "Let $n = 2$ and $I = \\langle xy, x^2 - x, y^2 - y \\rangle$. This ideal is radical. We compute the decomposition of $I$ (over $\\mathbb{Q}$) as follows:"
   ]
  },
  {
   "cell_type": "code",
   "execution_count": 6,
   "metadata": {},
   "outputs": [
    {
     "name": "stdout",
     "output_type": "stream",
     "text": [
      "--loading configuration for package \"FourTiTwo\" from file /home/kevinan/.Macaulay2/init-FourTiTwo.m2\n",
      "--loading configuration for package \"Topcom\" from file /home/kevinan/.Macaulay2/init-Topcom.m2\n"
     ]
    }
   ],
   "source": [
    "restart"
   ]
  },
  {
   "cell_type": "code",
   "execution_count": 2,
   "metadata": {},
   "outputs": [
    {
     "name": "stdout",
     "output_type": "stream",
     "text": [
      "\n",
      "o2 = R\n",
      "\n",
      "o2 : PolynomialRing\n"
     ]
    }
   ],
   "source": [
    "R = QQ[x, y]"
   ]
  },
  {
   "cell_type": "code",
   "execution_count": 4,
   "metadata": {},
   "outputs": [
    {
     "name": "stdout",
     "output_type": "stream",
     "text": [
      "\n",
      "                  2       2\n",
      "o4 = ideal (x*y, x  - x, y  - y)\n",
      "\n",
      "o4 : Ideal of R\n"
     ]
    }
   ],
   "source": [
    "I = ideal(x*y, x^2 - x, y^2 - y)"
   ]
  },
  {
   "cell_type": "code",
   "execution_count": 5,
   "metadata": {},
   "outputs": [
    {
     "name": "stdout",
     "output_type": "stream",
     "text": [
      "\n",
      "o5 = {ideal (y, x - 1), ideal (y, x), ideal (y - 1, x)}\n",
      "\n",
      "o5 : List\n"
     ]
    }
   ],
   "source": [
    "primaryDecomposition(I)"
   ]
  },
  {
   "cell_type": "markdown",
   "metadata": {},
   "source": [
    "Thus $I = \\langle y, x - 1 \\rangle \\cap \\langle y, x \\rangle \\cap \\langle y - 1, x \\rangle$, as desired."
   ]
  },
  {
   "cell_type": "markdown",
   "metadata": {},
   "source": [
    "### Example 3.5"
   ]
  },
  {
   "cell_type": "markdown",
   "metadata": {},
   "source": [
    "Let $I = \\langle xy, y^2 - y, x^2y - x^2 \\rangle$. We compute the decomposition of $I$ as follows:"
   ]
  },
  {
   "cell_type": "code",
   "execution_count": 6,
   "metadata": {},
   "outputs": [
    {
     "name": "stdout",
     "output_type": "stream",
     "text": [
      "--loading configuration for package \"FourTiTwo\" from file /home/kevinan/.Macaulay2/init-FourTiTwo.m2\n",
      "--loading configuration for package \"Topcom\" from file /home/kevinan/.Macaulay2/init-Topcom.m2\n"
     ]
    }
   ],
   "source": [
    "restart"
   ]
  },
  {
   "cell_type": "code",
   "execution_count": 1,
   "metadata": {},
   "outputs": [
    {
     "name": "stdout",
     "output_type": "stream",
     "text": [
      "\n",
      "o1 = R\n",
      "\n",
      "o1 : PolynomialRing\n"
     ]
    }
   ],
   "source": [
    "R = QQ[x,y]"
   ]
  },
  {
   "cell_type": "code",
   "execution_count": 2,
   "metadata": {},
   "outputs": [
    {
     "name": "stdout",
     "output_type": "stream",
     "text": [
      "\n",
      "                  2       2     2\n",
      "o2 = ideal (x*y, y  - y, x y - x )\n",
      "\n",
      "o2 : Ideal of R\n"
     ]
    }
   ],
   "source": [
    "I = ideal(x * y, y^2 - y, x^2 * y - x^2)"
   ]
  },
  {
   "cell_type": "code",
   "execution_count": 3,
   "metadata": {},
   "outputs": [
    {
     "name": "stdout",
     "output_type": "stream",
     "text": [
      "\n",
      "                 2\n",
      "o3 = {ideal (y, x ), ideal (y - 1, x)}\n",
      "\n",
      "o3 : List\n"
     ]
    }
   ],
   "source": [
    "primaryDecomposition(I)"
   ]
  },
  {
   "cell_type": "markdown",
   "metadata": {},
   "source": [
    "We get that $I = \\langle y - 1, x \\rangle \\cap \\langle y, x^2 \\rangle$ as desired."
   ]
  },
  {
   "cell_type": "markdown",
   "metadata": {},
   "source": [
    "### Example 3.6"
   ]
  },
  {
   "cell_type": "markdown",
   "metadata": {},
   "source": [
    "Consider the ideal $I = \\langle x^3 - yz, y^3 - xz, z^3 - xy \\rangle$ in $\\mathbb{Q}[x, y, z]$. We calculate the decomposition:"
   ]
  },
  {
   "cell_type": "code",
   "execution_count": 4,
   "metadata": {},
   "outputs": [
    {
     "name": "stdout",
     "output_type": "stream",
     "text": [
      "--loading configuration for package \"FourTiTwo\" from file /home/kevinan/.Macaulay2/init-FourTiTwo.m2\n",
      "--loading configuration for package \"Topcom\" from file /home/kevinan/.Macaulay2/init-Topcom.m2\n"
     ]
    }
   ],
   "source": [
    "restart"
   ]
  },
  {
   "cell_type": "code",
   "execution_count": 1,
   "metadata": {},
   "outputs": [
    {
     "name": "stdout",
     "output_type": "stream",
     "text": [
      "\n",
      "o1 = R\n",
      "\n",
      "o1 : PolynomialRing\n"
     ]
    }
   ],
   "source": [
    "R = QQ[x, y, z]"
   ]
  },
  {
   "cell_type": "code",
   "execution_count": 2,
   "metadata": {},
   "outputs": [
    {
     "name": "stdout",
     "output_type": "stream",
     "text": [
      "\n",
      "             3         3         3\n",
      "o2 = ideal (x  - y*z, y  - x*z, z  - x*y)\n",
      "\n",
      "o2 : Ideal of R\n"
     ]
    }
   ],
   "source": [
    "I = ideal(x^3 - y * z, y^3 - x * z, z^3 - x * y)"
   ]
  },
  {
   "cell_type": "code",
   "execution_count": 3,
   "metadata": {},
   "outputs": [
    {
     "name": "stdout",
     "output_type": "stream",
     "text": [
      "\n",
      "              3           2     2   2    2    3           2   2    3        \n",
      "o3 = {ideal (z  - x*y, y*z , x*z , y z, x z, y  - x*z, x*y , x y, x  - y*z),\n",
      "     ---------------------------------------------------------------------------\n",
      "                                                                                \n",
      "     ideal (z - 1, y - 1, x - 1), ideal (z - 1, y + 1, x + 1), ideal (z - 1, x +\n",
      "     ---------------------------------------------------------------------------\n",
      "         2                                                                      \n",
      "     y, y  + 1), ideal (z + 1, y - 1, x + 1), ideal (z + 1, y + 1, x - 1), ideal\n",
      "     ---------------------------------------------------------------------------\n",
      "                     2                             2                           \n",
      "     (z + 1, x - y, y  + 1), ideal (y - 1, x + z, z  + 1), ideal (y + 1, x - z,\n",
      "     ---------------------------------------------------------------------------\n",
      "      2                             2                             2\n",
      "     z  + 1), ideal (y - z, x + 1, z  + 1), ideal (y + z, x - 1, z  + 1)}\n",
      "\n",
      "o3 : List\n"
     ]
    }
   ],
   "source": [
    "primaryDecomposition(I)"
   ]
  },
  {
   "cell_type": "markdown",
   "metadata": {},
   "source": [
    "Our output is: $I = \\langle z^3 - xy, yz^2, x z^2, y^2 z, x^2 z,  y^3 - xz, x^2y, x^3 - yz \\rangle \\cap \\langle z - 1, y - 1, x - 1 \\rangle \\cap \\langle z - 1, y + 1, x + 1 \\rangle \\cap \\langle z - 1, xy, y^2 + 1 \\rangle \\cap \\langle z + 1, y - 1, x + 1 \\rangle \\cap \\langle z + 1, y + 1, x - 1 \\rangle \\cap \\langle z + 1, x - y, y^2 + 1 \\rangle \\cap \\langle y - 1, x + z, z^2 + 1 \\rangle \\cap \\langle y + 1, x - z, z^2 + 1 \\rangle \\cap \\langle y - z, x + 1, z^2 + 1 \\rangle \\cap \\langle y + z, x - 1, z^2 + 1 \\rangle $"
   ]
  },
  {
   "cell_type": "markdown",
   "metadata": {},
   "source": [
    "## Section 3.2: Primary Decomposition "
   ]
  },
  {
   "cell_type": "markdown",
   "metadata": {},
   "source": [
    "### Example 3.15"
   ]
  },
  {
   "cell_type": "markdown",
   "metadata": {},
   "source": [
    "We consider the primary decompositions (over $\\mathbb{Q}[x,y]$ instead) of $\\langle x^2, xy \\rangle$"
   ]
  },
  {
   "cell_type": "code",
   "execution_count": 6,
   "metadata": {},
   "outputs": [
    {
     "name": "stdout",
     "output_type": "stream",
     "text": [
      "--loading configuration for package \"FourTiTwo\" from file /home/kevinan/.Macaulay2/init-FourTiTwo.m2\n",
      "--loading configuration for package \"Topcom\" from file /home/kevinan/.Macaulay2/init-Topcom.m2\n"
     ]
    }
   ],
   "source": [
    "restart"
   ]
  },
  {
   "cell_type": "code",
   "execution_count": 1,
   "metadata": {},
   "outputs": [
    {
     "name": "stdout",
     "output_type": "stream",
     "text": [
      "\n",
      "o1 = R\n",
      "\n",
      "o1 : PolynomialRing\n"
     ]
    }
   ],
   "source": [
    "R = QQ[x, y]"
   ]
  },
  {
   "cell_type": "code",
   "execution_count": 2,
   "metadata": {},
   "outputs": [
    {
     "name": "stdout",
     "output_type": "stream",
     "text": [
      "\n",
      "             2\n",
      "o2 = ideal (x , x*y)\n",
      "\n",
      "o2 : Ideal of R\n"
     ]
    }
   ],
   "source": [
    "I = ideal(x^2, x * y)"
   ]
  },
  {
   "cell_type": "code",
   "execution_count": 3,
   "metadata": {},
   "outputs": [
    {
     "name": "stdout",
     "output_type": "stream",
     "text": [
      "\n",
      "                       2\n",
      "o3 = {ideal x, ideal (x , y)}\n",
      "\n",
      "o3 : List\n"
     ]
    }
   ],
   "source": [
    "primaryDecomposition(I)"
   ]
  },
  {
   "cell_type": "markdown",
   "metadata": {},
   "source": [
    "###Example 3.18"
   ]
  },
  {
   "cell_type": "markdown",
   "metadata": {},
   "source": [
    "We calculate the associated primes of $I = \\langle x^2 xy \\rangle$, the ideal as above."
   ]
  },
  {
   "cell_type": "code",
   "execution_count": 5,
   "metadata": {},
   "outputs": [
    {
     "name": "stdout",
     "output_type": "stream",
     "text": [
      "\n",
      "o5 = {ideal x, ideal (x, y)}\n",
      "\n",
      "o5 : List\n"
     ]
    }
   ],
   "source": [
    "associatedPrimes(I)"
   ]
  },
  {
   "cell_type": "markdown",
   "metadata": {},
   "source": [
    "Our primes are $\\langle x \\rangle$ and $\\langle x, y \\rangle$"
   ]
  },
  {
   "cell_type": "markdown",
   "metadata": {},
   "source": [
    "### Example 3.23"
   ]
  },
  {
   "cell_type": "markdown",
   "metadata": {},
   "source": [
    "Let $n = 3$ and $I = \\langle xy^2z^3, x^2yz^3, xy^3z^2, x^3yz^2, x^2y^3z, x^3y^2z \\rangle$. The primary decomposition and associated primes are calculated (over $\\mathbb{Q}[x, y, z]$) below:"
   ]
  },
  {
   "cell_type": "code",
   "execution_count": 6,
   "metadata": {},
   "outputs": [
    {
     "name": "stdout",
     "output_type": "stream",
     "text": [
      "--loading configuration for package \"FourTiTwo\" from file /home/kevinan/.Macaulay2/init-FourTiTwo.m2\n",
      "--loading configuration for package \"Topcom\" from file /home/kevinan/.Macaulay2/init-Topcom.m2\n"
     ]
    }
   ],
   "source": [
    "restart"
   ]
  },
  {
   "cell_type": "code",
   "execution_count": 1,
   "metadata": {},
   "outputs": [
    {
     "name": "stdout",
     "output_type": "stream",
     "text": [
      "\n",
      "o1 = R\n",
      "\n",
      "o1 : PolynomialRing\n"
     ]
    }
   ],
   "source": [
    "R = QQ[x, y, z]"
   ]
  },
  {
   "cell_type": "code",
   "execution_count": 2,
   "metadata": {},
   "outputs": [
    {
     "name": "stdout",
     "output_type": "stream",
     "text": [
      "\n",
      "               2 3   2   3     3 2   3   2   2 3    3 2\n",
      "o2 = ideal (x*y z , x y*z , x*y z , x y*z , x y z, x y z)\n",
      "\n",
      "o2 : Ideal of R\n"
     ]
    }
   ],
   "source": [
    "I = ideal(x * y^2 * z^3, x^2 * y * z^3, x * y^3 * z^2, x^3 *  y * z^2, x^2 * y^3 * z, x^3 * y^2 * z)"
   ]
  },
  {
   "cell_type": "code",
   "execution_count": 3,
   "metadata": {},
   "outputs": [
    {
     "name": "stdout",
     "output_type": "stream",
     "text": [
      "\n",
      "                                         2   2           2   2           2   2  \n",
      "o3 = {ideal x, ideal y, ideal z, ideal (x , y ), ideal (x , z ), ideal (y , z ),\n",
      "     ---------------------------------------------------------------------------\n",
      "             3   3   3\n",
      "     ideal (x , y , z )}\n",
      "\n",
      "o3 : List\n"
     ]
    }
   ],
   "source": [
    "primaryDecomposition(I)"
   ]
  },
  {
   "cell_type": "code",
   "execution_count": 4,
   "metadata": {},
   "outputs": [
    {
     "name": "stdout",
     "output_type": "stream",
     "text": [
      "\n",
      "o4 = {ideal x, ideal y, ideal z, ideal (x, y), ideal (x, z), ideal (y, z), ideal\n",
      "     ---------------------------------------------------------------------------\n",
      "     (x, y, z)}\n",
      "\n",
      "o4 : List\n"
     ]
    }
   ],
   "source": [
    "associatedPrimes(I)"
   ]
  },
  {
   "cell_type": "markdown",
   "metadata": {},
   "source": [
    "We get that a primary decomposition is $I = \\langle x \\rangle \\cap \\langle y \\rangle \\cap \\langle z \\rangle \\cap \\langle x^2, y^2 \\rangle \\cap \\langle x^2, z^2 \\rangle \\cap \\langle y^2, z^2 \\rangle \\cap \\langle x^3, y^3, z^3 \\rangle$"
   ]
  },
  {
   "cell_type": "markdown",
   "metadata": {},
   "source": [
    "The associated primes are $\\langle x \\rangle, \\langle y \\rangle, \\langle z \\rangle, \\langle x, y \\rangle, \\langle x, z \\rangle, \\langle y, z \\rangle, \\langle x, y, z \\rangle$"
   ]
  },
  {
   "cell_type": "code",
   "execution_count": null,
   "metadata": {},
   "outputs": [],
   "source": []
  }
 ],
 "metadata": {
  "kernelspec": {
   "display_name": "M2",
   "language": "text/x-macaulay2",
   "name": "m2"
  },
  "language_info": {
   "codemirror_mode": "macaulay2",
   "file_extension": ".m2",
   "mimetype": "text/x-macaulay2",
   "name": "Macaulay2"
  }
 },
 "nbformat": 4,
 "nbformat_minor": 4
}
