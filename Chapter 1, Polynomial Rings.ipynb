{
 "cells": [
  {
   "cell_type": "code",
   "execution_count": 2,
   "metadata": {
    "slideshow": {
     "slide_type": "skip"
    }
   },
   "outputs": [
    {
     "name": "stdout",
     "output_type": "stream",
     "text": [
      "[magic succeeded] mode = pretty\n",
      "[magic succeeded] timeout = 10"
     ]
    },
    {
     "data": {
      "text/html": [
       "<pre></pre><pre style=\"color: gray\"></pre>"
      ]
     },
     "execution_count": 2,
     "metadata": {},
     "output_type": "execute_result"
    }
   ],
   "source": [
    "--initial setup; author: Tyler Zhu\n",
    "--%mode=pretty\n",
    "--%timeout=10"
   ]
  },
  {
   "cell_type": "markdown",
   "metadata": {
    "slideshow": {
     "slide_type": "slide"
    }
   },
   "source": [
    "# Section 1.1: Ideals"
   ]
  },
  {
   "cell_type": "markdown",
   "metadata": {
    "slideshow": {
     "slide_type": "slide"
    }
   },
   "source": [
    "In Example 1.4, we look at the following two ideals over $\\mathbb{Q}[x]$:\n",
    "\n",
    "$$ I = \\langle x^3 +6x^2 +12x+8 \\rangle \\text{ and } J = \\langle x^2 +x - 2 \\rangle. $$\n",
    "\n",
    "Let's try computing their intersection, sum, product, and quotient. "
   ]
  },
  {
   "cell_type": "code",
   "execution_count": 3,
   "metadata": {
    "scrolled": false,
    "slideshow": {
     "slide_type": "subslide"
    }
   },
   "outputs": [
    {
     "data": {
      "text/html": [
       "<pre>\n",
       "R</pre><pre style=\"color: gray\">\n",
       "PolynomialRing\n",
       "</pre>"
      ]
     },
     "execution_count": 3,
     "metadata": {},
     "output_type": "execute_result"
    }
   ],
   "source": [
    "R = QQ[x] -- set our base ring"
   ]
  },
  {
   "cell_type": "code",
   "execution_count": 7,
   "metadata": {
    "slideshow": {
     "slide_type": "subslide"
    }
   },
   "outputs": [
    {
     "name": "stdout",
     "output_type": "stream",
     "text": [
      "I: ideal(x^3+6*x^2+12*x+8)\n",
      "\n",
      "J: ideal(x^2+x-2)\n"
     ]
    },
    {
     "data": {
      "text/html": [
       "<pre></pre><pre style=\"color: gray\"></pre>"
      ]
     },
     "execution_count": 7,
     "metadata": {},
     "output_type": "execute_result"
    }
   ],
   "source": [
    "I = ideal((x+2)^3)\n",
    "J = ideal((x+2)*(x-1))\n",
    "print(concatenate{\"I: \", toString I})\n",
    "print(concatenate{\"J: \", toString J})"
   ]
  },
  {
   "cell_type": "code",
   "execution_count": 10,
   "metadata": {
    "slideshow": {
     "slide_type": "subslide"
    }
   },
   "outputs": [
    {
     "name": "stdout",
     "output_type": "stream",
     "text": [
      "         4     3     2\n",
      "ideal(- x  - 5x  - 6x  + 4x + 8)\n"
     ]
    },
    {
     "data": {
      "text/html": [
       "<pre>\n",
       "              3\n",
       "(x - 1)(x + 2) (-1)</pre><pre style=\"color: gray\">\n",
       "Expression of class Product\n",
       "</pre>"
      ]
     },
     "execution_count": 10,
     "metadata": {},
     "output_type": "execute_result"
    }
   ],
   "source": [
    "InJ = intersect(I,J)\n",
    "print(InJ)\n",
    "factor InJ_0 -- get the 0th (in this case, only) generator, factored"
   ]
  },
  {
   "cell_type": "code",
   "execution_count": 12,
   "metadata": {},
   "outputs": [
    {
     "data": {
      "text/html": [
       "<pre>\n",
       "ideal(x + 2)</pre><pre style=\"color: gray\">\n",
       "Ideal of R\n",
       "</pre>"
      ]
     },
     "execution_count": 12,
     "metadata": {},
     "output_type": "execute_result"
    }
   ],
   "source": [
    "IplusJ = I+J\n",
    "ideal(gens(gb IplusJ))"
   ]
  },
  {
   "cell_type": "code",
   "execution_count": 15,
   "metadata": {},
   "outputs": [
    {
     "name": "stdout",
     "output_type": "stream",
     "text": [
      "       5     4      3     2\n",
      "ideal(x  + 7x  + 16x  + 8x  - 16x - 16)\n"
     ]
    },
    {
     "data": {
      "text/html": [
       "<pre>\n",
       "              4\n",
       "(x - 1)(x + 2)</pre><pre style=\"color: gray\">\n",
       "Expression of class Product\n",
       "</pre>"
      ]
     },
     "execution_count": 15,
     "metadata": {},
     "output_type": "execute_result"
    }
   ],
   "source": [
    "IprodJ = I*J\n",
    "print(IprodJ)\n",
    "factor IprodJ_0"
   ]
  },
  {
   "cell_type": "code",
   "execution_count": 18,
   "metadata": {},
   "outputs": [
    {
     "name": "stdout",
     "output_type": "stream",
     "text": [
      "       2\n",
      "ideal(x  + 4x + 4)\n"
     ]
    },
    {
     "data": {
      "text/html": [
       "<pre>\n",
       "       2\n",
       "(x + 2)</pre><pre style=\"color: gray\">\n",
       "Expression of class Product\n",
       "</pre>"
      ]
     },
     "execution_count": 18,
     "metadata": {},
     "output_type": "execute_result"
    }
   ],
   "source": [
    "ImodJ = I:J\n",
    "print(ImodJ)\n",
    "factor ImodJ_0"
   ]
  },
  {
   "cell_type": "markdown",
   "metadata": {},
   "source": [
    "In Example 1.7, we consider the ideal generated by the partial derivatives of the cubic $f = 2xyz − x^2 − y^2 − z^2 + 1.$ This is the ideal \n",
    "\n",
    "$$I = \\langle \\dfrac{\\partial f}{\\partial x} , \\dfrac{\\partial f}{\\partial y} , \\dfrac{\\partial f}{\\partial z}\\rangle = \\langle yz−x, xz−y, xy−z\\rangle \\subset \\mathbb{R}[x,y,z].$$"
   ]
  },
  {
   "cell_type": "code",
   "execution_count": 19,
   "metadata": {},
   "outputs": [
    {
     "data": {
      "text/html": [
       "<pre>\n",
       "R</pre><pre style=\"color: gray\">\n",
       "PolynomialRing\n",
       "</pre>"
      ]
     },
     "execution_count": 19,
     "metadata": {},
     "output_type": "execute_result"
    }
   ],
   "source": [
    "R = QQ[x,y,z, MonomialOrder => GLex] --doing over QQ since CAS can't represent RR"
   ]
  },
  {
   "cell_type": "code",
   "execution_count": 20,
   "metadata": {},
   "outputs": [
    {
     "data": {
      "text/html": [
       "<pre>\n",
       "          2    2    2\n",
       "2x*y*z - x  - y  - z  + 1</pre><pre style=\"color: gray\">\n",
       "R\n",
       "</pre>"
      ]
     },
     "execution_count": 20,
     "metadata": {},
     "output_type": "execute_result"
    }
   ],
   "source": [
    "f = 2*x*y*z-x^2-y^2-z^2+1"
   ]
  },
  {
   "cell_type": "code",
   "execution_count": 21,
   "metadata": {},
   "outputs": [
    {
     "data": {
      "text/html": [
       "<pre>\n",
       "| x y z |</pre><pre style=\"color: gray\">\n",
       "        1       3\n",
       "Matrix R  <--- R\n",
       "</pre>"
      ]
     },
     "execution_count": 21,
     "metadata": {},
     "output_type": "execute_result"
    }
   ],
   "source": [
    "vars R"
   ]
  },
  {
   "cell_type": "code",
   "execution_count": 24,
   "metadata": {},
   "outputs": [
    {
     "name": "stdout",
     "output_type": "stream",
     "text": [
      "| 2yz-2x 2xz-2y 2xy-2z |\n"
     ]
    },
    {
     "data": {
      "text/html": [
       "<pre>\n",
       "ideal (2y*z - 2x, 2x*z - 2y, 2x*y - 2z)</pre><pre style=\"color: gray\">\n",
       "Ideal of R\n",
       "</pre>"
      ]
     },
     "execution_count": 24,
     "metadata": {},
     "output_type": "execute_result"
    }
   ],
   "source": [
    "partials = diff(vars R, f)\n",
    "print(partials)\n",
    "I = ideal(partials)"
   ]
  },
  {
   "cell_type": "code",
   "execution_count": 25,
   "metadata": {},
   "outputs": [
    {
     "data": {
      "text/html": [
       "<pre>\n",
       "{ideal (z, y, x), ideal (z - 1, y - 1, x - 1), ideal (z - 1, y + 1, x +\n",
       "--------------------------------------------------------------------------\n",
       "1), ideal (z + 1, y - 1, x + 1), ideal (z + 1, y + 1, x - 1)}</pre><pre style=\"color: gray\">\n",
       "List\n",
       "</pre>"
      ]
     },
     "execution_count": 25,
     "metadata": {},
     "output_type": "execute_result"
    }
   ],
   "source": [
    "p = primaryDecomposition I"
   ]
  },
  {
   "cell_type": "code",
   "execution_count": 26,
   "metadata": {},
   "outputs": [
    {
     "data": {
      "text/html": [
       "<pre>\n",
       "ideal (z - 1, y - 1, x - 1, z - 1, y + 1, x + 1, z + 1, y - 1, x + 1, z +\n",
       "--------------------------------------------------------------------------\n",
       "1, y + 1, x - 1)</pre><pre style=\"color: gray\">\n",
       "Ideal of R\n",
       "</pre>"
      ]
     },
     "execution_count": 26,
     "metadata": {},
     "output_type": "execute_result"
    }
   ],
   "source": [
    "claim = ideal(p_1, p_2, p_3, p_4)"
   ]
  },
  {
   "cell_type": "code",
   "execution_count": 27,
   "metadata": {},
   "outputs": [
    {
     "data": {
      "text/html": [
       "<pre>\n",
       "true</pre><pre style=\"color: gray\"></pre>"
      ]
     },
     "execution_count": 27,
     "metadata": {},
     "output_type": "execute_result"
    }
   ],
   "source": [
    "f % claim == 0 -- test membership"
   ]
  },
  {
   "cell_type": "code",
   "execution_count": 28,
   "metadata": {},
   "outputs": [
    {
     "data": {
      "text/html": [
       "<pre>\n",
       "ideal 1</pre><pre style=\"color: gray\">\n",
       "Ideal of R\n",
       "</pre>"
      ]
     },
     "execution_count": 28,
     "metadata": {},
     "output_type": "execute_result"
    }
   ],
   "source": [
    "ideal(gens gb claim)"
   ]
  },
  {
   "cell_type": "markdown",
   "metadata": {},
   "source": [
    "# Section 1.2: Grobner Bases"
   ]
  },
  {
   "cell_type": "markdown",
   "metadata": {},
   "source": [
    "In the beginning of the section, we make the following claim: \n",
    "\n",
    "$$\\langle 2x+3y+5z+7, 11x+13y+17z+19, 23x+29y+31z+37\\rangle = \\langle7x−16, 7y+12, 7z+9\\rangle.$$"
   ]
  },
  {
   "cell_type": "code",
   "execution_count": 29,
   "metadata": {},
   "outputs": [
    {
     "data": {
      "text/html": [
       "<pre>\n",
       "ideal (2x + 3y + 5z + 7, 11x + 13y + 17z + 19, 23x + 29y + 31z + 37)</pre><pre style=\"color: gray\">\n",
       "Ideal of R\n",
       "</pre>"
      ]
     },
     "execution_count": 29,
     "metadata": {},
     "output_type": "execute_result"
    }
   ],
   "source": [
    "I = ideal(2*x+3*y+5*z+7, 11*x+13*y+17*z+19, 23*x+29*y+31*z+37)"
   ]
  },
  {
   "cell_type": "code",
   "execution_count": 30,
   "metadata": {},
   "outputs": [
    {
     "data": {
      "text/html": [
       "<pre>\n",
       "| 7z+9 7y+12 7x-16 |</pre><pre style=\"color: gray\">\n",
       "        1       3\n",
       "Matrix R  <--- R\n",
       "</pre>"
      ]
     },
     "execution_count": 30,
     "metadata": {},
     "output_type": "execute_result"
    }
   ],
   "source": [
    "gens gb I"
   ]
  },
  {
   "cell_type": "markdown",
   "metadata": {},
   "source": [
    "Example 1.18 presents us with multiple applications of Grobner Bases. Here, we provide the code for following such applications. Macaulay2 by default employs a graded reverse lexicographic monomial ordering, and our variables are ordered $x \\succ y \\succ z$ by order of definition."
   ]
  },
  {
   "cell_type": "code",
   "execution_count": 31,
   "metadata": {
    "scrolled": true
   },
   "outputs": [
    {
     "data": {
      "text/html": [
       "<pre>\n",
       "R</pre><pre style=\"color: gray\">\n",
       "PolynomialRing\n",
       "</pre>"
      ]
     },
     "execution_count": 31,
     "metadata": {},
     "output_type": "execute_result"
    }
   ],
   "source": [
    "R = QQ[x,y,z, MonomialOrder=>Lex]"
   ]
  },
  {
   "cell_type": "markdown",
   "metadata": {},
   "source": [
    "For $n = 1$, computing the reduced Grobner basis means computing the greatest common divisor of the input polynomials:"
   ]
  },
  {
   "cell_type": "code",
   "execution_count": 32,
   "metadata": {
    "scrolled": true
   },
   "outputs": [
    {
     "data": {
      "text/html": [
       "<pre>\n",
       "        3     2              3     2               4     3     2\n",
       "ideal (x  - 6x  - 5x - 14, 3x  + 8x  + 11x + 10, 4x  + 4x  + 7x  - x - 2)</pre><pre style=\"color: gray\">\n",
       "Ideal of R\n",
       "</pre>"
      ]
     },
     "execution_count": 32,
     "metadata": {},
     "output_type": "execute_result"
    }
   ],
   "source": [
    "F = ideal(x^3-6*x^2-5*x-14, 3*x^3 +8*x^2 +11*x+10, 4*x^4 +4*x^3 +7*x^2-x-2)"
   ]
  },
  {
   "cell_type": "code",
   "execution_count": 33,
   "metadata": {},
   "outputs": [
    {
     "data": {
      "text/html": [
       "<pre>\n",
       "| x2+x+2 |</pre><pre style=\"color: gray\">\n",
       "        1       1\n",
       "Matrix R  <--- R\n",
       "</pre>"
      ]
     },
     "execution_count": 33,
     "metadata": {},
     "output_type": "execute_result"
    }
   ],
   "source": [
    "G = gens gb F"
   ]
  },
  {
   "cell_type": "markdown",
   "metadata": {},
   "source": [
    "We can look at the ideal $F = \\{xy−z,xz−y,yz−x\\}$ and compute its Grobner basis as well as its standard monomials"
   ]
  },
  {
   "cell_type": "code",
   "execution_count": 36,
   "metadata": {},
   "outputs": [
    {
     "name": "stdout",
     "output_type": "stream",
     "text": [
      "ideal (x*y - z, x*z - y, - x + y*z)\n"
     ]
    },
    {
     "data": {
      "text/html": [
       "<pre>\n",
       "| z3-z yz2-y y2-z2 x-yz |</pre><pre style=\"color: gray\">\n",
       "        1       4\n",
       "Matrix R  <--- R\n",
       "</pre>"
      ]
     },
     "execution_count": 36,
     "metadata": {},
     "output_type": "execute_result"
    }
   ],
   "source": [
    "F = ideal(x*y-z,x*z-y,y*z-x)\n",
    "print(F)\n",
    "G = gens gb F"
   ]
  },
  {
   "cell_type": "code",
   "execution_count": 38,
   "metadata": {},
   "outputs": [
    {
     "data": {
      "text/html": [
       "<pre>\n",
       "        3     2   2\n",
       "ideal (z , y*z , y , x)</pre><pre style=\"color: gray\">\n",
       "Ideal of R\n",
       "</pre>"
      ]
     },
     "execution_count": 38,
     "metadata": {},
     "output_type": "execute_result"
    }
   ],
   "source": [
    "staircase = ideal leadTerm F"
   ]
  },
  {
   "cell_type": "code",
   "execution_count": 40,
   "metadata": {},
   "outputs": [
    {
     "data": {
      "text/html": [
       "<pre>\n",
       "| 1 y yz z z2 |</pre><pre style=\"color: gray\">\n",
       "                        1                       5\n",
       "Matrix standardMonomials  <--- standardMonomials\n",
       "</pre>"
      ]
     },
     "execution_count": 40,
     "metadata": {},
     "output_type": "execute_result"
    }
   ],
   "source": [
    "standardMonomials = R/staircase\n",
    "basis standardMonomials"
   ]
  },
  {
   "cell_type": "code",
   "execution_count": null,
   "metadata": {},
   "outputs": [],
   "source": []
  },
  {
   "cell_type": "code",
   "execution_count": null,
   "metadata": {},
   "outputs": [],
   "source": []
  },
  {
   "cell_type": "markdown",
   "metadata": {},
   "source": [
    "# Section 1.3: Dimension and Degree"
   ]
  },
  {
   "cell_type": "code",
   "execution_count": null,
   "metadata": {},
   "outputs": [],
   "source": []
  },
  {
   "cell_type": "code",
   "execution_count": null,
   "metadata": {},
   "outputs": [],
   "source": []
  },
  {
   "cell_type": "code",
   "execution_count": null,
   "metadata": {},
   "outputs": [],
   "source": []
  },
  {
   "cell_type": "code",
   "execution_count": null,
   "metadata": {},
   "outputs": [],
   "source": []
  }
 ],
 "metadata": {
  "kernelspec": {
   "display_name": "M2",
   "language": "text/x-macaulay2",
   "name": "m2"
  },
  "language_info": {
   "codemirror_mode": "macaulay2",
   "file_extension": ".m2",
   "mimetype": "text/x-macaulay2",
   "name": "Macaulay2"
  }
 },
 "nbformat": 4,
 "nbformat_minor": 4
}
